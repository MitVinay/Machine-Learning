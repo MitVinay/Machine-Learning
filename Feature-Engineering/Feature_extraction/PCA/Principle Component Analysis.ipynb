{
 "cells": [
  {
   "cell_type": "markdown",
   "id": "dcea078d",
   "metadata": {},
   "source": [
    "PCA is a unsupervised algorithm, There is no output. We only pass input in the algorithm.\n",
    "\n",
    "PCA is technique for feature extraction. The main objective of this technique is to do dimensionality reduction.\n",
    "SO PCA trys to achive the best possible lower dimension data to capture the essense of higher dimension data."
   ]
  }
 ],
 "metadata": {
  "kernelspec": {
   "display_name": "Python 3 (ipykernel)",
   "language": "python",
   "name": "python3"
  },
  "language_info": {
   "codemirror_mode": {
    "name": "ipython",
    "version": 3
   },
   "file_extension": ".py",
   "mimetype": "text/x-python",
   "name": "python",
   "nbconvert_exporter": "python",
   "pygments_lexer": "ipython3",
   "version": "3.11.5"
  }
 },
 "nbformat": 4,
 "nbformat_minor": 5
}
