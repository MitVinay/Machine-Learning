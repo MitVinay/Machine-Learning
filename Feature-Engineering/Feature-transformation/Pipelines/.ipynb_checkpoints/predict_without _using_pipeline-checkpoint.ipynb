{
 "cells": [
  {
   "cell_type": "code",
   "execution_count": 5,
   "id": "c33c81eb",
   "metadata": {},
   "outputs": [],
   "source": [
    "import pickle\n",
    "import numpy as np"
   ]
  },
  {
   "cell_type": "code",
   "execution_count": 3,
   "id": "69c422e5",
   "metadata": {},
   "outputs": [
    {
     "name": "stdout",
     "output_type": "stream",
     "text": [
      "/Users/vinaymittal/Monash/Summer_Vacation/GitHub/Machine-Learning/Feature-Engineering/Feature-transformation/Pipelines\r\n"
     ]
    }
   ],
   "source": [
    "! pwd"
   ]
  },
  {
   "cell_type": "code",
   "execution_count": 6,
   "id": "11704128",
   "metadata": {},
   "outputs": [],
   "source": [
    "ohe_sex = pickle.load(open('model/ohe_sex.pkl', 'rb'))\n",
    "ohe_embarked = pickle.load(open('model/ohe_embarked.pkl', 'rb'))\n",
    "clf = pickle.load(open('model/clf.pkl', 'rb'))"
   ]
  },
  {
   "cell_type": "code",
   "execution_count": 7,
   "id": "0ac59e24",
   "metadata": {},
   "outputs": [],
   "source": [
    "# Assume user input\n",
    "# Pclass/gender/age/SiSp/Fare/Embarked\n",
    "\n",
    "test_input = np.array([2, 'male', 31.0, 0, 0, 10.5, 'S'], dtype = object).reshape(1,7)"
   ]
  },
  {
   "cell_type": "code",
   "execution_count": 15,
   "id": "51d7946f",
   "metadata": {},
   "outputs": [
    {
     "data": {
      "text/plain": [
       "array([[2, 'male', 31.0, 0, 0, 10.5, 'S']], dtype=object)"
      ]
     },
     "execution_count": 15,
     "metadata": {},
     "output_type": "execute_result"
    }
   ],
   "source": [
    "test_input"
   ]
  },
  {
   "cell_type": "code",
   "execution_count": 13,
   "id": "8ea21a43",
   "metadata": {},
   "outputs": [],
   "source": [
    "test_input_sex  = ohe_sex.transform(test_input[:, 1].reshape(1, 1))"
   ]
  },
  {
   "cell_type": "code",
   "execution_count": 14,
   "id": "f5993e2f",
   "metadata": {},
   "outputs": [
    {
     "data": {
      "text/plain": [
       "array([[0., 1.]])"
      ]
     },
     "execution_count": 14,
     "metadata": {},
     "output_type": "execute_result"
    }
   ],
   "source": [
    "test_input_sex"
   ]
  },
  {
   "cell_type": "code",
   "execution_count": 17,
   "id": "11563e60",
   "metadata": {},
   "outputs": [
    {
     "data": {
      "text/plain": [
       "array([['S']], dtype=object)"
      ]
     },
     "execution_count": 17,
     "metadata": {},
     "output_type": "execute_result"
    }
   ],
   "source": [
    "test_input[:, -1].reshape(1, 1)"
   ]
  },
  {
   "cell_type": "code",
   "execution_count": 16,
   "id": "8549963d",
   "metadata": {},
   "outputs": [],
   "source": [
    "test_input_embarked  = ohe_embarked.transform(test_input[:, -1].reshape(1, 1))"
   ]
  },
  {
   "cell_type": "code",
   "execution_count": 19,
   "id": "641b9328",
   "metadata": {},
   "outputs": [
    {
     "data": {
      "text/plain": [
       "array([[0., 0., 1.]])"
      ]
     },
     "execution_count": 19,
     "metadata": {},
     "output_type": "execute_result"
    }
   ],
   "source": [
    "test_input_embarked"
   ]
  },
  {
   "cell_type": "code",
   "execution_count": 18,
   "id": "700cae55",
   "metadata": {},
   "outputs": [],
   "source": [
    "test_input_age = test_input[:, 2].reshape(1, 1)"
   ]
  },
  {
   "cell_type": "code",
   "execution_count": 21,
   "id": "85ac6c70",
   "metadata": {},
   "outputs": [],
   "source": [
    "test_input_transformed = np.concatenate((test_input[:, [0, 3, 4, 5]],\n",
    "                                          test_input_age, test_input_sex, test_input_embarked), axis =1 )"
   ]
  },
  {
   "cell_type": "code",
   "execution_count": 22,
   "id": "5a8362d6",
   "metadata": {},
   "outputs": [
    {
     "data": {
      "text/plain": [
       "(1, 10)"
      ]
     },
     "execution_count": 22,
     "metadata": {},
     "output_type": "execute_result"
    }
   ],
   "source": [
    "test_input_transformed.shape"
   ]
  },
  {
   "cell_type": "code",
   "execution_count": 23,
   "id": "fffa8b7c",
   "metadata": {},
   "outputs": [
    {
     "data": {
      "text/plain": [
       "array([0])"
      ]
     },
     "execution_count": 23,
     "metadata": {},
     "output_type": "execute_result"
    }
   ],
   "source": [
    "clf.predict(test_input_transformed)"
   ]
  }
 ],
 "metadata": {
  "kernelspec": {
   "display_name": "Python 3 (ipykernel)",
   "language": "python",
   "name": "python3"
  },
  "language_info": {
   "codemirror_mode": {
    "name": "ipython",
    "version": 3
   },
   "file_extension": ".py",
   "mimetype": "text/x-python",
   "name": "python",
   "nbconvert_exporter": "python",
   "pygments_lexer": "ipython3",
   "version": "3.11.4"
  }
 },
 "nbformat": 4,
 "nbformat_minor": 5
}
