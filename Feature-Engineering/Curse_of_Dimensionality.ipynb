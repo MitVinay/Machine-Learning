{
 "cells": [
  {
   "cell_type": "markdown",
   "id": "d5d1975c",
   "metadata": {},
   "source": [
    "# Curse of Dimensionality"
   ]
  },
  {
   "cell_type": "markdown",
   "id": "8e7b0e9a",
   "metadata": {},
   "source": [
    "In data we have lots of features i.e. columns. These features are also called Dimensions.\n",
    "\n",
    "For every algorithm, there is optimal number of features say n, On increasing the number of columns the performance decreases in terms of computation and overfitting."
   ]
  },
  {
   "cell_type": "markdown",
   "id": "f406fd3d",
   "metadata": {},
   "source": [
    "Whenever we work with Images and text data, the dimension is very high. For exmaple if we have 100 x 100 pixel. image than total columns would be 10000."
   ]
  },
  {
   "cell_type": "markdown",
   "id": "9e5ca62f",
   "metadata": {},
   "source": [
    "## What is the problem with higher Dimension?"
   ]
  },
  {
   "cell_type": "markdown",
   "id": "58cdba96",
   "metadata": {},
   "source": [
    "**Sparsity** : The closeness of the data points decreases which leads to failing the Machine learning alagorithm."
   ]
  },
  {
   "cell_type": "markdown",
   "id": "1441b7b3",
   "metadata": {},
   "source": [
    "## How to tackle it?"
   ]
  },
  {
   "cell_type": "markdown",
   "id": "44af3a72",
   "metadata": {},
   "source": [
    "We need to do the **Dimensionality Reduction**, There are two major methods of doing this as follows:\n",
    "\n",
    "- **Feature Extraction**\n",
    "    1. Forward Selection\n",
    "    2. Backward Elimination\n",
    "- **Feature Selection**\n",
    "    1. PCA\n",
    "    2. LDA\n",
    "    3. TSNE"
   ]
  }
 ],
 "metadata": {
  "kernelspec": {
   "display_name": "Python 3 (ipykernel)",
   "language": "python",
   "name": "python3"
  },
  "language_info": {
   "codemirror_mode": {
    "name": "ipython",
    "version": 3
   },
   "file_extension": ".py",
   "mimetype": "text/x-python",
   "name": "python",
   "nbconvert_exporter": "python",
   "pygments_lexer": "ipython3",
   "version": "3.11.5"
  }
 },
 "nbformat": 4,
 "nbformat_minor": 5
}
