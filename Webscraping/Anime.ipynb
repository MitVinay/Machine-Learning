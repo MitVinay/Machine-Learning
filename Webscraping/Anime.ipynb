{
 "cells": [
  {
   "cell_type": "code",
   "execution_count": 1,
   "id": "d734339f",
   "metadata": {},
   "outputs": [],
   "source": [
    "import pandas as pd\n",
    "import requests\n",
    "from bs4 import BeautifulSoup"
   ]
  },
  {
   "cell_type": "code",
   "execution_count": 2,
   "id": "e5552f05",
   "metadata": {},
   "outputs": [],
   "source": [
    "headers={'User-Agent':'Mozilla/5.0 (Windows NT 6.3; Win 64 ; x64) Apple WeKit /537.36(KHTML , like Gecko) Chrome/80.0.3987.162 Safari/537.36'}\n",
    "webpage = requests.get('https://myanimelist.net/topanime.php', headers = headers).text"
   ]
  },
  {
   "cell_type": "code",
   "execution_count": 9,
   "id": "fdc9431d",
   "metadata": {},
   "outputs": [],
   "source": [
    "# Passing lxml (html parcel)\n",
    "soup = BeautifulSoup(webpage, \"html.parser\")"
   ]
  },
  {
   "cell_type": "code",
   "execution_count": 61,
   "id": "d7aa7188",
   "metadata": {},
   "outputs": [
    {
     "name": "stdout",
     "output_type": "stream",
     "text": [
      "TV (28 eps)\n",
      "Sep 2023 -\n",
      "347,026 members\n"
     ]
    }
   ],
   "source": [
    "for each in soup.find_all('div', class_=\"information di-ib mt4\")[0].text.strip().split(\"\\n\"):\n",
    "    print(each.strip())\n",
    "\n"
   ]
  },
  {
   "cell_type": "code",
   "execution_count": 72,
   "id": "60441cf3",
   "metadata": {},
   "outputs": [],
   "source": [
    "final=pd.DataFrame()\n",
    "for j in range(1,411):\n",
    "    headers={'User-Agent':'Mozilla/5.0 (Windows NT 6.3; Win 64 ; x64) Apple WeKit /537.36(KHTML , like Gecko) Chrome/80.0.3987.162 Safari/537.36'}\n",
    "    webpage = requests.get('https://myanimelist.net/topanime.php?limit={}'.format(j), headers = headers).text\n",
    "    soup=BeautifulSoup(webpage,'lxml')\n",
    "    anime = soup.find_all('td', class_='title al va-t word-break')\n",
    "    s = soup.find_all('td', class_='score ac fs14')\n",
    "    Anime_name = []\n",
    "    episode = []\n",
    "    duration = []\n",
    "    members = []\n",
    "    Score = []\n",
    "    for i in anime:\n",
    "        try:\n",
    "            Anime_name.append(i.find_all('h3', class_=\"fl-l fs14 fw-b anime_ranking_h3\")[0].text.strip())\n",
    "        except:\n",
    "            Anime_name.append(\"nan\")\n",
    "        try:\n",
    "            episode.append(i.find_all('div', class_=\"information di-ib mt4\")[0].text.strip().split(\"\\n\")[0].strip())\n",
    "            duration.append(i.find_all('div', class_=\"information di-ib mt4\")[0].text.strip().split(\"\\n\")[1].strip())\n",
    "            members.append(i.find_all('div', class_=\"information di-ib mt4\")[0].text.strip().split(\"\\n\")[2].strip())\n",
    "\n",
    "        except:\n",
    "            episode.append(\"nan\")\n",
    "            duration.append(\"nan\")\n",
    "            members.append(\"nan\")\n",
    "    for k in s:\n",
    "        try:\n",
    "            Score.append(k.find_all('span')[0].text)\n",
    "        except:\n",
    "            Score.append(\"nan\")\n",
    "#     print(len(Anime_name))\n",
    "#     print(len(Score))\n",
    "#     print(len(details))\n",
    "    \n",
    "    d = {'Anime_name': Anime_name, 'episode': episode, 'duration':duration, 'members':members, 'Score': Score }\n",
    "\n",
    "    df = pd.DataFrame(d)\n",
    "    final = pd.concat([final, df], ignore_index=True)\n"
   ]
  },
  {
   "cell_type": "code",
   "execution_count": 73,
   "id": "7d1c52c1",
   "metadata": {},
   "outputs": [
    {
     "data": {
      "text/plain": [
       "(14850, 5)"
      ]
     },
     "execution_count": 73,
     "metadata": {},
     "output_type": "execute_result"
    }
   ],
   "source": [
    "final.shape"
   ]
  },
  {
   "cell_type": "code",
   "execution_count": 74,
   "id": "53f5f71f",
   "metadata": {},
   "outputs": [],
   "source": [
    "\n",
    "final.to_csv(\"Anime_list.csv\")"
   ]
  }
 ],
 "metadata": {
  "kernelspec": {
   "display_name": "Python 3 (ipykernel)",
   "language": "python",
   "name": "python3"
  },
  "language_info": {
   "codemirror_mode": {
    "name": "ipython",
    "version": 3
   },
   "file_extension": ".py",
   "mimetype": "text/x-python",
   "name": "python",
   "nbconvert_exporter": "python",
   "pygments_lexer": "ipython3",
   "version": "3.11.4"
  }
 },
 "nbformat": 4,
 "nbformat_minor": 5
}
